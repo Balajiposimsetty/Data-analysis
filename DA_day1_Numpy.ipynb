{
  "nbformat": 4,
  "nbformat_minor": 0,
  "metadata": {
    "colab": {
      "provenance": []
    },
    "kernelspec": {
      "name": "python3",
      "display_name": "Python 3"
    },
    "language_info": {
      "name": "python"
    }
  },
  "cells": [
    {
      "cell_type": "code",
      "execution_count": null,
      "metadata": {
        "id": "fYg7zCWsJyX2"
      },
      "outputs": [],
      "source": [
        "#importing\n",
        "import numpy as np"
      ]
    },
    {
      "cell_type": "code",
      "source": [
        "#Creating 1D array\n",
        "A = np.array([2,3,4,5])\n",
        "print(type(A))"
      ],
      "metadata": {
        "colab": {
          "base_uri": "https://localhost:8080/"
        },
        "id": "SER5TexWMIya",
        "outputId": "90088263-9fdf-415c-ead5-ce807bc9a558"
      },
      "execution_count": null,
      "outputs": [
        {
          "output_type": "stream",
          "name": "stdout",
          "text": [
            "<class 'numpy.ndarray'>\n"
          ]
        }
      ]
    },
    {
      "cell_type": "code",
      "source": [
        "#Creating 2D array\n",
        "B = np.array([[2,3,4],[7,8,9]])\n",
        "print(B)"
      ],
      "metadata": {
        "colab": {
          "base_uri": "https://localhost:8080/"
        },
        "id": "2Tf79qziMaNg",
        "outputId": "d084077f-8dbf-469c-db58-7731d42f74d0"
      },
      "execution_count": null,
      "outputs": [
        {
          "output_type": "stream",
          "name": "stdout",
          "text": [
            "[[2 3 4]\n",
            " [7 8 9]]\n"
          ]
        }
      ]
    },
    {
      "cell_type": "code",
      "source": [
        "#Creating 3D array - rows,columns,groups\n",
        "C = np.array([[[2,3,4],[6,7,8]],[[6,9,0],[2,3,1]]])\n",
        "print(C)"
      ],
      "metadata": {
        "colab": {
          "base_uri": "https://localhost:8080/"
        },
        "id": "e7Ac1lMYNaZa",
        "outputId": "cc94c90e-60da-4970-98a3-e317db7ca5b1"
      },
      "execution_count": null,
      "outputs": [
        {
          "output_type": "stream",
          "name": "stdout",
          "text": [
            "[[[2 3 4]\n",
            "  [6 7 8]]\n",
            "\n",
            " [[6 9 0]\n",
            "  [2 3 1]]]\n"
          ]
        }
      ]
    },
    {
      "cell_type": "code",
      "source": [
        "#Checking dimensions of array\n",
        "print(A.ndim)\n",
        "print(B.ndim)\n",
        "print(C.ndim)"
      ],
      "metadata": {
        "colab": {
          "base_uri": "https://localhost:8080/"
        },
        "id": "V2qUXHfNO7fi",
        "outputId": "de9771f7-91d8-494a-91e6-9dc853a4b153"
      },
      "execution_count": null,
      "outputs": [
        {
          "output_type": "stream",
          "name": "stdout",
          "text": [
            "1\n",
            "2\n",
            "3\n"
          ]
        }
      ]
    },
    {
      "cell_type": "code",
      "source": [
        "#Ones\n",
        "D = np.ones((2,3))  #rows,columns,2D\n",
        "print(D)"
      ],
      "metadata": {
        "colab": {
          "base_uri": "https://localhost:8080/"
        },
        "id": "bjSFHKZcRE7e",
        "outputId": "a3c36133-c592-4bd9-ebd8-7e2eb41f2822"
      },
      "execution_count": null,
      "outputs": [
        {
          "output_type": "stream",
          "name": "stdout",
          "text": [
            "[[1. 1. 1.]\n",
            " [1. 1. 1.]]\n"
          ]
        }
      ]
    },
    {
      "cell_type": "code",
      "source": [
        "#Ones\n",
        "E = np.ones((2,3,3))   #groups,rows,columns,3D\n",
        "print(E)"
      ],
      "metadata": {
        "colab": {
          "base_uri": "https://localhost:8080/"
        },
        "id": "kVeuNxFeSNNb",
        "outputId": "229e3c1f-6cb8-44d2-c050-2304388303cc"
      },
      "execution_count": null,
      "outputs": [
        {
          "output_type": "stream",
          "name": "stdout",
          "text": [
            "[[[1. 1. 1.]\n",
            "  [1. 1. 1.]\n",
            "  [1. 1. 1.]]\n",
            "\n",
            " [[1. 1. 1.]\n",
            "  [1. 1. 1.]\n",
            "  [1. 1. 1.]]]\n"
          ]
        }
      ]
    },
    {
      "cell_type": "code",
      "source": [
        "#Zeroes\n",
        "F = np.zeros(2)\n",
        "print(F)"
      ],
      "metadata": {
        "colab": {
          "base_uri": "https://localhost:8080/"
        },
        "id": "l_qMahm_Rn8m",
        "outputId": "868157c7-cebb-4a29-8f94-7cd36674f47d"
      },
      "execution_count": null,
      "outputs": [
        {
          "output_type": "stream",
          "name": "stdout",
          "text": [
            "[0. 0.]\n"
          ]
        }
      ]
    },
    {
      "cell_type": "code",
      "source": [
        "#Eye\n",
        "G = np.eye(4)\n",
        "print(G)"
      ],
      "metadata": {
        "colab": {
          "base_uri": "https://localhost:8080/"
        },
        "id": "s7TT0hTSSCDd",
        "outputId": "c3fbdcb8-dae6-493f-a4b0-5eee6c995b07"
      },
      "execution_count": null,
      "outputs": [
        {
          "output_type": "stream",
          "name": "stdout",
          "text": [
            "[[1. 0. 0. 0.]\n",
            " [0. 1. 0. 0.]\n",
            " [0. 0. 1. 0.]\n",
            " [0. 0. 0. 1.]]\n"
          ]
        }
      ]
    },
    {
      "cell_type": "code",
      "source": [
        "#Arange\n",
        "H = np.arange(3,31,3)\n",
        "print(H)"
      ],
      "metadata": {
        "colab": {
          "base_uri": "https://localhost:8080/"
        },
        "id": "4Qb4iEgZUhly",
        "outputId": "0c80c15f-a1d2-41df-9ec5-9dee0ac64548"
      },
      "execution_count": null,
      "outputs": [
        {
          "output_type": "stream",
          "name": "stdout",
          "text": [
            "[ 3  6  9 12 15 18 21 24 27 30]\n"
          ]
        }
      ]
    },
    {
      "cell_type": "code",
      "source": [
        "#Reshape\n",
        "H = np.arange(3,31,3).reshape(5,2)\n",
        "print(H)"
      ],
      "metadata": {
        "colab": {
          "base_uri": "https://localhost:8080/"
        },
        "id": "42iY6GnpU5Hz",
        "outputId": "8a432428-5c7d-4b20-cab8-66b654ae07dc"
      },
      "execution_count": null,
      "outputs": [
        {
          "output_type": "stream",
          "name": "stdout",
          "text": [
            "[[ 3  6]\n",
            " [ 9 12]\n",
            " [15 18]\n",
            " [21 24]\n",
            " [27 30]]\n"
          ]
        }
      ]
    },
    {
      "cell_type": "code",
      "source": [
        "#Printing 5 table using arange function\n",
        "I = np.arange(5,1001,5).reshape(10,20)\n",
        "print(I)"
      ],
      "metadata": {
        "colab": {
          "base_uri": "https://localhost:8080/"
        },
        "id": "vuCwh4ySVQDk",
        "outputId": "ea5a2190-f392-44c8-d402-6848a52071cb"
      },
      "execution_count": null,
      "outputs": [
        {
          "output_type": "stream",
          "name": "stdout",
          "text": [
            "[[   5   10   15   20   25   30   35   40   45   50   55   60   65   70\n",
            "    75   80   85   90   95  100]\n",
            " [ 105  110  115  120  125  130  135  140  145  150  155  160  165  170\n",
            "   175  180  185  190  195  200]\n",
            " [ 205  210  215  220  225  230  235  240  245  250  255  260  265  270\n",
            "   275  280  285  290  295  300]\n",
            " [ 305  310  315  320  325  330  335  340  345  350  355  360  365  370\n",
            "   375  380  385  390  395  400]\n",
            " [ 405  410  415  420  425  430  435  440  445  450  455  460  465  470\n",
            "   475  480  485  490  495  500]\n",
            " [ 505  510  515  520  525  530  535  540  545  550  555  560  565  570\n",
            "   575  580  585  590  595  600]\n",
            " [ 605  610  615  620  625  630  635  640  645  650  655  660  665  670\n",
            "   675  680  685  690  695  700]\n",
            " [ 705  710  715  720  725  730  735  740  745  750  755  760  765  770\n",
            "   775  780  785  790  795  800]\n",
            " [ 805  810  815  820  825  830  835  840  845  850  855  860  865  870\n",
            "   875  880  885  890  895  900]\n",
            " [ 905  910  915  920  925  930  935  940  945  950  955  960  965  970\n",
            "   975  980  985  990  995 1000]]\n"
          ]
        }
      ]
    },
    {
      "cell_type": "code",
      "source": [
        "#Linspace\n",
        "J = np.linspace(12,24,10)\n",
        "print(J)"
      ],
      "metadata": {
        "colab": {
          "base_uri": "https://localhost:8080/"
        },
        "id": "iGyMa4dGWgpk",
        "outputId": "9a050c89-062a-4b29-d4f1-f549d7f3864c"
      },
      "execution_count": null,
      "outputs": [
        {
          "output_type": "stream",
          "name": "stdout",
          "text": [
            "[12.         13.33333333 14.66666667 16.         17.33333333 18.66666667\n",
            " 20.         21.33333333 22.66666667 24.        ]\n"
          ]
        }
      ]
    },
    {
      "cell_type": "code",
      "source": [
        "K = np.arange(1,7).reshape(2,3)\n",
        "print(K)\n",
        "L = np.arange(9,15).reshape(2,3)\n",
        "print(L)"
      ],
      "metadata": {
        "colab": {
          "base_uri": "https://localhost:8080/"
        },
        "id": "brBATNecXlnB",
        "outputId": "02b010d7-67f2-4348-c0ad-6872eb92350a"
      },
      "execution_count": null,
      "outputs": [
        {
          "output_type": "stream",
          "name": "stdout",
          "text": [
            "[[1 2 3]\n",
            " [4 5 6]]\n",
            "[[ 9 10 11]\n",
            " [12 13 14]]\n"
          ]
        }
      ]
    },
    {
      "cell_type": "code",
      "source": [
        "#Addition of arrays\n",
        "print(K+L)"
      ],
      "metadata": {
        "colab": {
          "base_uri": "https://localhost:8080/"
        },
        "id": "dzmw-E2RYhqu",
        "outputId": "57b1ed74-493e-46e1-cf6c-a977bd50d74f"
      },
      "execution_count": null,
      "outputs": [
        {
          "output_type": "stream",
          "name": "stdout",
          "text": [
            "[[10 12 14]\n",
            " [16 18 20]]\n"
          ]
        }
      ]
    },
    {
      "cell_type": "code",
      "source": [
        "#Addition of all elements of array obtained by addition of arrays\n",
        "M = np.sum((K,L))\n",
        "print(M)"
      ],
      "metadata": {
        "colab": {
          "base_uri": "https://localhost:8080/"
        },
        "id": "qfhDuWO6YpK4",
        "outputId": "8eb0917a-6e10-440e-a3f6-4a5af81c20d6"
      },
      "execution_count": null,
      "outputs": [
        {
          "output_type": "stream",
          "name": "stdout",
          "text": [
            "90\n"
          ]
        }
      ]
    },
    {
      "cell_type": "code",
      "source": [
        "#Addition of arrays along columns\n",
        "M = np.sum((K,L),axis=0)\n",
        "print(M)"
      ],
      "metadata": {
        "colab": {
          "base_uri": "https://localhost:8080/"
        },
        "id": "A7M-Z99vuqSR",
        "outputId": "1a46a97d-7eb2-4dd7-80ea-03de902bf8b3"
      },
      "execution_count": null,
      "outputs": [
        {
          "output_type": "stream",
          "name": "stdout",
          "text": [
            "[[10 12 14]\n",
            " [16 18 20]]\n"
          ]
        }
      ]
    },
    {
      "cell_type": "code",
      "source": [
        "#Addition of arrays along rows\n",
        "M = np.sum((K,L),axis=1)\n",
        "print(M)"
      ],
      "metadata": {
        "colab": {
          "base_uri": "https://localhost:8080/"
        },
        "id": "NSnCLiN6vMr3",
        "outputId": "387c1857-37cb-42c8-94c6-29b2da6e8d99"
      },
      "execution_count": null,
      "outputs": [
        {
          "output_type": "stream",
          "name": "stdout",
          "text": [
            "[[ 5  7  9]\n",
            " [21 23 25]]\n"
          ]
        }
      ]
    },
    {
      "cell_type": "code",
      "source": [
        "#Addition of arrays along groups\n",
        "M = np.sum((K,L),axis=2)\n",
        "print(M)"
      ],
      "metadata": {
        "colab": {
          "base_uri": "https://localhost:8080/"
        },
        "id": "Dmj-Pd4nvjZY",
        "outputId": "f6386cf3-42f2-4c79-9009-77859a416a54"
      },
      "execution_count": null,
      "outputs": [
        {
          "output_type": "stream",
          "name": "stdout",
          "text": [
            "[[ 6 15]\n",
            " [30 39]]\n"
          ]
        }
      ]
    },
    {
      "cell_type": "code",
      "source": [
        "N = np.ones((4,2))\n",
        "O = np.ones((4,2))\n",
        "P=(np.sum((N,O),axis=1))\n",
        "print(P)"
      ],
      "metadata": {
        "colab": {
          "base_uri": "https://localhost:8080/"
        },
        "id": "pW35vHOexVVg",
        "outputId": "7312fbc4-01d5-4098-d5b4-0489fcb25de3"
      },
      "execution_count": null,
      "outputs": [
        {
          "output_type": "stream",
          "name": "stdout",
          "text": [
            "[[4. 4.]\n",
            " [4. 4.]]\n"
          ]
        }
      ]
    },
    {
      "cell_type": "code",
      "source": [
        "#Multiplication of arrays\n",
        "Q = np.array([[1,1],[0,1]])\n",
        "R = np.array([[2,0],[3,4]])\n",
        "S=Q*R\n",
        "print(S)"
      ],
      "metadata": {
        "colab": {
          "base_uri": "https://localhost:8080/"
        },
        "id": "jwRxyqJ-ySJJ",
        "outputId": "c455b730-9991-45ab-a119-d7eb37c8e9df"
      },
      "execution_count": null,
      "outputs": [
        {
          "output_type": "stream",
          "name": "stdout",
          "text": [
            "[[2 0]\n",
            " [0 4]]\n"
          ]
        }
      ]
    },
    {
      "cell_type": "code",
      "source": [
        "#Square roots of elements os an array\n",
        "T = np.array([25,289,361,81])\n",
        "for i in T:\n",
        "  print(np.sqrt(i),\"square is \",i)"
      ],
      "metadata": {
        "colab": {
          "base_uri": "https://localhost:8080/"
        },
        "id": "77vR9Ec2zp7G",
        "outputId": "44acf603-9c7f-468e-cc1b-67475b376ef2"
      },
      "execution_count": null,
      "outputs": [
        {
          "output_type": "stream",
          "name": "stdout",
          "text": [
            "5.0 square is  25\n",
            "17.0 square is  289\n",
            "19.0 square is  361\n",
            "9.0 square is  81\n"
          ]
        }
      ]
    },
    {
      "cell_type": "code",
      "source": [],
      "metadata": {
        "id": "8Noq0RS34n5V"
      },
      "execution_count": null,
      "outputs": []
    },
    {
      "cell_type": "code",
      "source": [
        "U = np.array([25,289,361,81])\n",
        "V = np.sqrt(U)\n",
        "W = zip(V,U)\n",
        "for i in W :\n",
        "  print(i)"
      ],
      "metadata": {
        "colab": {
          "base_uri": "https://localhost:8080/"
        },
        "id": "bvsKVQzK4n-T",
        "outputId": "62b6957c-0884-48c3-ee83-c11d7af11f4b"
      },
      "execution_count": null,
      "outputs": [
        {
          "output_type": "stream",
          "name": "stdout",
          "text": [
            "(5.0, 25)\n",
            "(17.0, 289)\n",
            "(19.0, 361)\n",
            "(9.0, 81)\n"
          ]
        }
      ]
    },
    {
      "cell_type": "code",
      "source": [
        "a = np.array([34,35,36,37,38,39])\n",
        "a.resize(2,3)\n",
        "b = np.array([4,5,6,7,8,9])\n",
        "b.resize(2,3)\n",
        "print(np.vstack((a,b)))        #columns\n",
        "print(\"\\n\")\n",
        "print(np.hstack((a,b)))        #rows\n"
      ],
      "metadata": {
        "colab": {
          "base_uri": "https://localhost:8080/"
        },
        "id": "Rx_iPYvL59wI",
        "outputId": "7246ba63-742d-4628-b749-d65f444023f5"
      },
      "execution_count": null,
      "outputs": [
        {
          "output_type": "stream",
          "name": "stdout",
          "text": [
            "[[34 35 36]\n",
            " [37 38 39]\n",
            " [ 4  5  6]\n",
            " [ 7  8  9]]\n",
            "\n",
            "\n",
            "[[34 35 36  4  5  6]\n",
            " [37 38 39  7  8  9]]\n"
          ]
        }
      ]
    }
  ]
}