{
  "nbformat": 4,
  "nbformat_minor": 0,
  "metadata": {
    "colab": {
      "provenance": []
    },
    "kernelspec": {
      "name": "python3",
      "display_name": "Python 3"
    },
    "language_info": {
      "name": "python"
    }
  },
  "cells": [
    {
      "cell_type": "code",
      "source": [
        "import tensorflow as tf\n",
        "from tensorflow import keras\n",
        "from tensorflow.keras import layers\n",
        "from tensorflow.keras.preprocessing.image import ImageDataGenerator\n",
        "#Define image size and batch size\n",
        "IMG_SIZE = 224\n",
        "BATCH_SIZE = 32"
      ],
      "metadata": {
        "id": "EZE6ZrC68N8b"
      },
      "execution_count": null,
      "outputs": []
    },
    {
      "cell_type": "code",
      "source": [
        "#Define data generators for train,validation and test sets\n",
        "train_datagen=ImageDataGenerator(rescale=1./255,validation_split=0.2)\n",
        "train_generator=train_datagen.flow_from_directory('/content/drive/MyDrive/bt/Brain_Tumor_Detection/train',\n",
        "target_size=(IMG_SIZE,IMG_SIZE),\n",
        "batch_size=BATCH_SIZE,\n",
        "class_mode='binary',\n",
        "subset='training'\n",
        ")\n",
        "val_generator = train_datagen.flow_from_directory(\n",
        "    '/content/drive/MyDrive/bt/Brain_Tumor_Detection/train',target_size=(IMG_SIZE,IMG_SIZE),\n",
        "batch_size=BATCH_SIZE,\n",
        "class_mode='binary',\n",
        "subset='validation'\n",
        ")\n",
        "test_datagen=ImageDataGenerator(rescale=1./255)\n",
        "test_generator=test_datagen.flow_from_directory('/content/drive/MyDrive/bt/Brain_Tumor_Detection/test',\n",
        "target_size=(IMG_SIZE,IMG_SIZE),\n",
        "batch_size=BATCH_SIZE,\n",
        "class_mode='binary'\n",
        ")"
      ],
      "metadata": {
        "id": "x7Pe2lb3QKVm",
        "colab": {
          "base_uri": "https://localhost:8080/",
          "height": 211
        },
        "outputId": "bfa86177-55ff-4e52-c8ee-4874e9c6bcc9"
      },
      "execution_count": null,
      "outputs": [
        {
          "output_type": "error",
          "ename": "NameError",
          "evalue": "name 'ImageDataGenerator' is not defined",
          "traceback": [
            "\u001b[0;31m---------------------------------------------------------------------------\u001b[0m",
            "\u001b[0;31mNameError\u001b[0m                                 Traceback (most recent call last)",
            "\u001b[0;32m<ipython-input-1-c5e277dabb1a>\u001b[0m in \u001b[0;36m<cell line: 2>\u001b[0;34m()\u001b[0m\n\u001b[1;32m      1\u001b[0m \u001b[0;31m#Define data generators for train,validation and test sets\u001b[0m\u001b[0;34m\u001b[0m\u001b[0;34m\u001b[0m\u001b[0m\n\u001b[0;32m----> 2\u001b[0;31m \u001b[0mtrain_datagen\u001b[0m\u001b[0;34m=\u001b[0m\u001b[0mImageDataGenerator\u001b[0m\u001b[0;34m(\u001b[0m\u001b[0mrescale\u001b[0m\u001b[0;34m=\u001b[0m\u001b[0;36m1.\u001b[0m\u001b[0;34m/\u001b[0m\u001b[0;36m255\u001b[0m\u001b[0;34m,\u001b[0m\u001b[0mvalidation_split\u001b[0m\u001b[0;34m=\u001b[0m\u001b[0;36m0.2\u001b[0m\u001b[0;34m)\u001b[0m\u001b[0;34m\u001b[0m\u001b[0;34m\u001b[0m\u001b[0m\n\u001b[0m\u001b[1;32m      3\u001b[0m train_generator=train_datagen.flow_from_directory('/content/drive/MyDrive/bt/Brain_Tumor_Detection/train',\n\u001b[1;32m      4\u001b[0m \u001b[0mtarget_size\u001b[0m\u001b[0;34m=\u001b[0m\u001b[0;34m(\u001b[0m\u001b[0mIMG_SIZE\u001b[0m\u001b[0;34m,\u001b[0m\u001b[0mIMG_SIZE\u001b[0m\u001b[0;34m)\u001b[0m\u001b[0;34m,\u001b[0m\u001b[0;34m\u001b[0m\u001b[0;34m\u001b[0m\u001b[0m\n\u001b[1;32m      5\u001b[0m \u001b[0mbatch_size\u001b[0m\u001b[0;34m=\u001b[0m\u001b[0mBATCH_SIZE\u001b[0m\u001b[0;34m,\u001b[0m\u001b[0;34m\u001b[0m\u001b[0;34m\u001b[0m\u001b[0m\n",
            "\u001b[0;31mNameError\u001b[0m: name 'ImageDataGenerator' is not defined"
          ]
        }
      ]
    },
    {
      "cell_type": "code",
      "source": [
        "from google.colab import drive\n",
        "drive.mount('/content/drive')"
      ],
      "metadata": {
        "colab": {
          "base_uri": "https://localhost:8080/"
        },
        "id": "lT35tw2IhGhW",
        "outputId": "b81c11c5-26f6-44d7-862e-5364ec6cd7f3"
      },
      "execution_count": null,
      "outputs": [
        {
          "output_type": "stream",
          "name": "stdout",
          "text": [
            "Drive already mounted at /content/drive; to attempt to forcibly remount, call drive.mount(\"/content/drive\", force_remount=True).\n"
          ]
        }
      ]
    },
    {
      "cell_type": "code",
      "source": [
        "#Define  the model\n",
        "model = keras.Sequential([\n",
        "    layers.Conv2D(32,(3,3),activation='relu',input_shape=(IMG_SIZE,IMG_SIZE,3)),\n",
        "    layers.MaxPooling2D((2,2)),\n",
        "    layers.Conv2D(64,(3,3),activation='relu'),\n",
        "    layers.MaxPooling2D((2,2)),\n",
        "    layers.Conv2D(64,(3,3),activation='relu'),\n",
        "    layers.MaxPooling2D((2,2)),\n",
        "    layers.Flatten(),\n",
        "    layers.Dense(128,activation='relu'),\n",
        "    layers.Dense(1,activation='sigmoid')\n",
        "])"
      ],
      "metadata": {
        "id": "YO_j-1xZiX3G"
      },
      "execution_count": null,
      "outputs": []
    },
    {
      "cell_type": "code",
      "source": [
        "#Compile the model\n",
        "model.compile(optimizer='adam',loss='binary_crossentropy',metrics=['accuracy'])"
      ],
      "metadata": {
        "id": "X9VUFyKImHx_"
      },
      "execution_count": null,
      "outputs": []
    },
    {
      "cell_type": "code",
      "source": [
        "history=model.fit(train_generator,validation_data=val_generator,epochs=5)"
      ],
      "metadata": {
        "colab": {
          "base_uri": "https://localhost:8080/"
        },
        "id": "FzfYgNdhmu8x",
        "outputId": "59157627-9842-4730-a38d-0f919899da67"
      },
      "execution_count": null,
      "outputs": [
        {
          "output_type": "stream",
          "name": "stdout",
          "text": [
            "Epoch 1/5\n",
            "75/75 [==============================] - 325s 4s/step - loss: 0.4401 - accuracy: 0.8054 - val_loss: 0.2887 - val_accuracy: 0.8783\n",
            "Epoch 2/5\n",
            "75/75 [==============================] - 246s 3s/step - loss: 0.2195 - accuracy: 0.9129 - val_loss: 0.1383 - val_accuracy: 0.9433\n",
            "Epoch 3/5\n",
            "75/75 [==============================] - 245s 3s/step - loss: 0.1179 - accuracy: 0.9621 - val_loss: 0.1463 - val_accuracy: 0.9317\n",
            "Epoch 4/5\n",
            "75/75 [==============================] - 243s 3s/step - loss: 0.0629 - accuracy: 0.9808 - val_loss: 0.0441 - val_accuracy: 0.9867\n",
            "Epoch 5/5\n",
            "75/75 [==============================] - 240s 3s/step - loss: 0.0461 - accuracy: 0.9887 - val_loss: 0.0356 - val_accuracy: 0.9883\n"
          ]
        }
      ]
    },
    {
      "cell_type": "code",
      "source": [
        "model.save(\"Model.h5\",\"label.txt\")"
      ],
      "metadata": {
        "colab": {
          "base_uri": "https://localhost:8080/"
        },
        "id": "EHUlZrvionGO",
        "outputId": "c18694f8-debe-47c6-c5ae-ddde64315df6"
      },
      "execution_count": null,
      "outputs": [
        {
          "output_type": "stream",
          "name": "stderr",
          "text": [
            "/usr/local/lib/python3.10/dist-packages/keras/src/engine/training.py:3103: UserWarning: You are saving your model as an HDF5 file via `model.save()`. This file format is considered legacy. We recommend using instead the native Keras format, e.g. `model.save('my_model.keras')`.\n",
            "  saving_api.save_model(\n"
          ]
        }
      ]
    },
    {
      "cell_type": "code",
      "source": [
        "from tensorflow.keras.models import load_model\n",
        "from tensorflow.keras.preprocessing import image\n",
        "import numpy as np\n",
        "\n",
        "#Load the saved model\n",
        "model=load_model('/content/Model.h5')\n",
        "\n",
        "#Load and preprocess the text image\n",
        "test_image_path='/content/drive/MyDrive/bt/Brain_Tumor_Detection/train/yes/y1.jpg'\n",
        "img=image.load_img(test_image_path,target_size=(224,224))\n",
        "img_array=image.img_to_array(img)\n",
        "img_array=np.expand_dims(img_array,axis=0)   #Add batch dimensions\n",
        "img_array/=255.    #Normalize pixel values\n",
        "#Make predictions\n",
        "prediction=model.predict(img_array)\n",
        "#Print prediction\n",
        "if prediction< 0.5 :\n",
        "  print(\"Prediction : No tumor (Probability :\",prediction[0][0],\")\")\n",
        "else :\n",
        "  print(\"Prediction : Tumor present(Probability : \",prediction[0][0],\")\")"
      ],
      "metadata": {
        "colab": {
          "base_uri": "https://localhost:8080/"
        },
        "id": "-4nJxghNo1Jj",
        "outputId": "cc93bd6c-9b13-40b6-9a1a-efd50b29784c"
      },
      "execution_count": null,
      "outputs": [
        {
          "output_type": "stream",
          "name": "stdout",
          "text": [
            "1/1 [==============================] - 0s 112ms/step\n",
            "Prediction : Tumor present(Probability :  0.9999983 )\n"
          ]
        }
      ]
    }
  ]
}