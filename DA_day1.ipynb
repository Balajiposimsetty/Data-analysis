{
  "nbformat": 4,
  "nbformat_minor": 0,
  "metadata": {
    "colab": {
      "provenance": []
    },
    "kernelspec": {
      "name": "python3",
      "display_name": "Python 3"
    },
    "language_info": {
      "name": "python"
    }
  },
  "cells": [
    {
      "cell_type": "code",
      "execution_count": null,
      "metadata": {
        "colab": {
          "base_uri": "https://localhost:8080/"
        },
        "id": "2_-BGmG4WxeI",
        "outputId": "f4da14e6-c43a-45ce-8dbe-f5a7ef9815e8"
      },
      "outputs": [
        {
          "output_type": "stream",
          "name": "stdout",
          "text": [
            "I am 5 years old\n"
          ]
        }
      ],
      "source": [
        "#Variable and print\n",
        "a=5\n",
        "print(\"I am\",a,\"years old\")"
      ]
    },
    {
      "cell_type": "markdown",
      "source": [
        "Operators"
      ],
      "metadata": {
        "id": "f9dXbyVSXabL"
      }
    },
    {
      "cell_type": "code",
      "source": [
        "#Arithmetic\n",
        "a=5\n",
        "b=25\n",
        "print(a+b)"
      ],
      "metadata": {
        "colab": {
          "base_uri": "https://localhost:8080/"
        },
        "id": "laBY0bsBXh9I",
        "outputId": "77afa4b9-e5cd-4afc-9275-edb56d649d46"
      },
      "execution_count": null,
      "outputs": [
        {
          "output_type": "stream",
          "name": "stdout",
          "text": [
            "30\n"
          ]
        }
      ]
    },
    {
      "cell_type": "code",
      "source": [
        "#Power\n",
        "print(2**3)"
      ],
      "metadata": {
        "colab": {
          "base_uri": "https://localhost:8080/"
        },
        "id": "o4jvcK9LYQqz",
        "outputId": "16ef69f9-82bf-406f-d313-c7d413ef96e0"
      },
      "execution_count": null,
      "outputs": [
        {
          "output_type": "stream",
          "name": "stdout",
          "text": [
            "8\n"
          ]
        }
      ]
    },
    {
      "cell_type": "code",
      "source": [
        "#Floor division\n",
        "print(25//2)"
      ],
      "metadata": {
        "colab": {
          "base_uri": "https://localhost:8080/"
        },
        "id": "BbT4gOCEYb13",
        "outputId": "74c9c43d-b925-4a4c-8475-4c19c888d29c"
      },
      "execution_count": null,
      "outputs": [
        {
          "output_type": "stream",
          "name": "stdout",
          "text": [
            "12\n"
          ]
        }
      ]
    },
    {
      "cell_type": "code",
      "source": [
        "#Relational\n",
        "a=6\n",
        "b=6\n",
        "print(a==b)\n",
        "print(a!=b)\n",
        "print(a>b)\n",
        "print(a>=b)\n",
        "print(a<b)\n",
        "print(a<=b)"
      ],
      "metadata": {
        "colab": {
          "base_uri": "https://localhost:8080/"
        },
        "id": "4I4UfSfPYm4b",
        "outputId": "884da2f6-d4a1-45df-e13f-04457e4858e2"
      },
      "execution_count": null,
      "outputs": [
        {
          "output_type": "stream",
          "name": "stdout",
          "text": [
            "True\n",
            "False\n",
            "False\n",
            "True\n",
            "False\n",
            "True\n"
          ]
        }
      ]
    },
    {
      "cell_type": "code",
      "source": [
        "#Logical\n",
        "a=4\n",
        "b=6\n",
        "print((a>b) and (a<b))    # false and true\n",
        "print((a>b) or (a<b))     # false or true"
      ],
      "metadata": {
        "colab": {
          "base_uri": "https://localhost:8080/"
        },
        "id": "sy9xSup_ZKPB",
        "outputId": "8a80292d-80c4-46aa-94e1-4766c4d5598b"
      },
      "execution_count": null,
      "outputs": [
        {
          "output_type": "stream",
          "name": "stdout",
          "text": [
            "False\n",
            "True\n"
          ]
        }
      ]
    },
    {
      "cell_type": "markdown",
      "source": [
        "Control flow"
      ],
      "metadata": {
        "id": "5O2EcJm1amzw"
      }
    },
    {
      "cell_type": "code",
      "source": [
        "#Conditional - if\n",
        "#write a program to get a number from user and check whether it is positive or negative\n",
        "a=int(input(\"enter a number :\"))\n",
        "if a>0 :\n",
        "  print(a,\"is positive\")\n",
        "elif a<0 :\n",
        "  print(a,\"is negative\")\n",
        "else :\n",
        "  print(a,\"is neither positive nor negative\")"
      ],
      "metadata": {
        "colab": {
          "base_uri": "https://localhost:8080/"
        },
        "id": "AwqebdzUasWL",
        "outputId": "82a3b36a-b57f-4e64-94c0-134b12aa5e04"
      },
      "execution_count": null,
      "outputs": [
        {
          "output_type": "stream",
          "name": "stdout",
          "text": [
            "enter a number :0\n",
            "0 is neither positive nor negative\n"
          ]
        }
      ]
    },
    {
      "cell_type": "markdown",
      "source": [
        "Looping"
      ],
      "metadata": {
        "id": "XYuyweJXxsjx"
      }
    },
    {
      "cell_type": "code",
      "source": [
        "#For loop\n",
        "n=int(input(\"enter a number\"))\n",
        "for i in range(1,11,1) :\n",
        "  a=n*i\n",
        "  print(a)"
      ],
      "metadata": {
        "colab": {
          "base_uri": "https://localhost:8080/"
        },
        "id": "2oD7q0Vcg3eu",
        "outputId": "d8d1a776-9e7e-4899-9d90-5d1020057d6c"
      },
      "execution_count": null,
      "outputs": [
        {
          "output_type": "stream",
          "name": "stdout",
          "text": [
            "enter a number4\n",
            "4\n",
            "8\n",
            "12\n",
            "16\n",
            "20\n",
            "24\n",
            "28\n",
            "32\n",
            "36\n",
            "40\n"
          ]
        }
      ]
    },
    {
      "cell_type": "code",
      "source": [
        "#WHILE loop\n",
        "n=int(input(\"enter a number \"))\n",
        "i=1\n",
        "while i<=10 :\n",
        "  a=n*i\n",
        "  print(a)\n",
        "  i=i+1"
      ],
      "metadata": {
        "colab": {
          "base_uri": "https://localhost:8080/"
        },
        "id": "unyc_RtUmA37",
        "outputId": "1be7576e-1891-42a3-ee70-055b85698c0d"
      },
      "execution_count": null,
      "outputs": [
        {
          "output_type": "stream",
          "name": "stdout",
          "text": [
            "enter a number 4\n",
            "4\n",
            "8\n",
            "12\n",
            "16\n",
            "20\n",
            "24\n",
            "28\n",
            "32\n",
            "36\n",
            "40\n"
          ]
        }
      ]
    },
    {
      "cell_type": "markdown",
      "source": [
        "Data slicing"
      ],
      "metadata": {
        "id": "I85n6ufnlhm0"
      }
    },
    {
      "cell_type": "code",
      "source": [
        "a=\"Python is easy\"\n",
        "print(a[0:6:])\n",
        "print(a[::-1])"
      ],
      "metadata": {
        "colab": {
          "base_uri": "https://localhost:8080/"
        },
        "id": "KZRCevq8llii",
        "outputId": "fb06a22d-bb17-42e5-d271-ae41675be388"
      },
      "execution_count": null,
      "outputs": [
        {
          "output_type": "stream",
          "name": "stdout",
          "text": [
            "Python\n",
            "ysae si nohtyP\n"
          ]
        }
      ]
    },
    {
      "cell_type": "markdown",
      "source": [
        "Collection :                                   \n",
        "List :                                   \n",
        "->List is a collection of elements              \n",
        "->Heterogenous                               \n",
        "->Mutable(modifiable)"
      ],
      "metadata": {
        "id": "YoAwAsLHoC2w"
      }
    },
    {
      "cell_type": "code",
      "source": [
        "#list\n",
        "l=[\"Balu\",45,18.7,\"Rohit\"]\n",
        "print(l)\n",
        "l.append(63)\n",
        "print(l)\n",
        "l.insert(2,\"pawan\")\n",
        "print(l)\n",
        "s=[\"vamc\",1,\"Ashok\"]\n",
        "l.extend(s)\n",
        "print(l)\n",
        "l.pop(7)\n",
        "print(l)\n",
        "l.remove(\"pawan\")\n",
        "print(l)\n",
        "b=[1,63,45,18,7,12,3.45]\n",
        "print(min(b))\n",
        "print(max(b))\n",
        "print(len(b))\n",
        "\n",
        "\n"
      ],
      "metadata": {
        "colab": {
          "base_uri": "https://localhost:8080/"
        },
        "id": "PMCjBBbYlzdp",
        "outputId": "a07204be-22a9-4dcf-e049-97bc57e4fd87"
      },
      "execution_count": null,
      "outputs": [
        {
          "output_type": "stream",
          "name": "stdout",
          "text": [
            "['Balu', 45, 18.7, 'Rohit']\n",
            "['Balu', 45, 18.7, 'Rohit', 63]\n",
            "['Balu', 45, 'pawan', 18.7, 'Rohit', 63]\n",
            "['Balu', 45, 'pawan', 18.7, 'Rohit', 63, 'vamc', 1, 'Ashok']\n",
            "['Balu', 45, 'pawan', 18.7, 'Rohit', 63, 'vamc', 'Ashok']\n",
            "['Balu', 45, 18.7, 'Rohit', 63, 'vamc', 'Ashok']\n",
            "1\n",
            "63\n",
            "7\n"
          ]
        }
      ]
    },
    {
      "cell_type": "markdown",
      "source": [
        "List comprehension :                     \n",
        "-> iterators                       \n",
        "-> applies some functions                    \n",
        "-> conditions                        \n",
        "-> output : list"
      ],
      "metadata": {
        "id": "1iAc5VZtwbaK"
      }
    },
    {
      "cell_type": "code",
      "source": [
        "l1=[2,3,4,5,6]\n",
        "l2=[i**2 for i in l1]\n",
        "print(l2)"
      ],
      "metadata": {
        "colab": {
          "base_uri": "https://localhost:8080/"
        },
        "id": "kl5W81hmw8c8",
        "outputId": "b970e168-bbd8-4182-a40b-3a15153e3c4e"
      },
      "execution_count": null,
      "outputs": [
        {
          "output_type": "stream",
          "name": "stdout",
          "text": [
            "[4, 9, 16, 25, 36]\n"
          ]
        }
      ]
    },
    {
      "cell_type": "code",
      "source": [
        "l3=[i**2 for i in l1 if i>3]\n",
        "print(l3)"
      ],
      "metadata": {
        "colab": {
          "base_uri": "https://localhost:8080/"
        },
        "id": "g8drn67yyG2h",
        "outputId": "2fe1b8b6-c1f7-4496-95f8-b5f5b371333d"
      },
      "execution_count": null,
      "outputs": [
        {
          "output_type": "stream",
          "name": "stdout",
          "text": [
            "[16, 25, 36]\n"
          ]
        }
      ]
    },
    {
      "cell_type": "code",
      "source": [
        "#The salaries of 5 employees in a company is taken as a list .The tax is 10% if the salary is less than 50,000 (or) it is 15%\n",
        "#create a new list with tax amounts\n",
        "#[67000,45000,89000,34000,50000]\n",
        "sal=[67000,45000,89000,34000,50000]\n",
        "tax=[]\n",
        "for i in sal :\n",
        "  if i<=50000 :\n",
        "    t=i*0.10\n",
        "    tax.append(t)\n",
        "  else :\n",
        "    t=i*0.15\n",
        "    tax.append(t)\n",
        "print(tax)"
      ],
      "metadata": {
        "colab": {
          "base_uri": "https://localhost:8080/"
        },
        "id": "GaeAi3Ixy_5L",
        "outputId": "5c122ef9-67bf-4595-e375-04a1b66e545d"
      },
      "execution_count": null,
      "outputs": [
        {
          "output_type": "stream",
          "name": "stdout",
          "text": [
            "[10050.0, 4500.0, 13350.0, 3400.0, 5000.0]\n"
          ]
        }
      ]
    },
    {
      "cell_type": "code",
      "source": [
        "#Using list comprehension\n",
        "#Syntax for if-else in list comprehension :-\n",
        "#list=[(body of if) if (condition) else (body of else) iterate]\n",
        "sal=[67000,45000,89000,34000,50000]\n",
        "tax=[i*0.10 if i<=50000 else  i*0.15  for i in sal]\n",
        "print(tax)"
      ],
      "metadata": {
        "colab": {
          "base_uri": "https://localhost:8080/"
        },
        "id": "-UZybw-w10P2",
        "outputId": "f2a76e19-4302-4bcc-a0d7-fe78ca5d0eb5"
      },
      "execution_count": null,
      "outputs": [
        {
          "output_type": "stream",
          "name": "stdout",
          "text": [
            "[10050.0, 4500.0, 13350.0, 3400.0, 5000.0]\n"
          ]
        }
      ]
    }
  ]
}