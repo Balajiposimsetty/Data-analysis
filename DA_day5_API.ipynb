{
  "nbformat": 4,
  "nbformat_minor": 0,
  "metadata": {
    "colab": {
      "provenance": []
    },
    "kernelspec": {
      "name": "python3",
      "display_name": "Python 3"
    },
    "language_info": {
      "name": "python"
    }
  },
  "cells": [
    {
      "cell_type": "code",
      "execution_count": null,
      "metadata": {
        "id": "oaVrEOFMPTyS"
      },
      "outputs": [],
      "source": [
        "import requests"
      ]
    },
    {
      "cell_type": "code",
      "source": [
        "page=requests.get('https://randomfox.ca/floof')"
      ],
      "metadata": {
        "id": "OxqSrdEvPffL"
      },
      "execution_count": null,
      "outputs": []
    },
    {
      "cell_type": "code",
      "source": [
        "print(page.status_code)"
      ],
      "metadata": {
        "colab": {
          "base_uri": "https://localhost:8080/"
        },
        "id": "6CY4_m_zPyD5",
        "outputId": "7881a203-b1cc-417b-cc7f-c5897144eb8b"
      },
      "execution_count": null,
      "outputs": [
        {
          "output_type": "stream",
          "name": "stdout",
          "text": [
            "200\n"
          ]
        }
      ]
    },
    {
      "cell_type": "code",
      "source": [
        "#This example uses Python 2.7 and the python-request library.\n",
        "\n",
        "from requests import Request, Session\n",
        "from requests.exceptions import ConnectionError, Timeout, TooManyRedirects\n",
        "import json\n",
        "\n",
        "url = 'https://sandbox-api.coinmarketcap.com/v1/cryptocurrency/listings/latest'\n",
        "parameters = {\n",
        "  'start':'1',\n",
        "  'limit':'5000',\n",
        "  'convert':'USD'\n",
        "}\n",
        "headers = {\n",
        "  'Accepts': 'application/json',\n",
        "  'X-CMC_PRO_API_KEY': '8242b487-fe32-4dcb-8ff4-6fbad546394e',\n",
        "}\n",
        "\n",
        "session = Session()\n",
        "session.headers.update(headers)\n",
        "\n",
        "try:\n",
        "  response = session.get(url, params=parameters)\n",
        "  data = json.loads(response.text)\n",
        "  print(data)\n",
        "except (ConnectionError, Timeout, TooManyRedirects) as e:\n",
        "  print(e)\n"
      ],
      "metadata": {
        "colab": {
          "base_uri": "https://localhost:8080/"
        },
        "id": "lgs--N-cZdmD",
        "outputId": "f840e08f-7708-4f0f-9d24-03bb6e08adb6"
      },
      "execution_count": null,
      "outputs": [
        {
          "output_type": "stream",
          "name": "stdout",
          "text": [
            "{'status': {'timestamp': '2024-02-16T10:25:50.962Z', 'error_code': 0, 'error_message': None, 'elapsed': 1, 'credit_count': 1, 'notice': None}, 'data': [{'id': 3763, 'name': 'd4ta8o2ko45', 'symbol': '573z4hpbq4k', 'slug': 'yyrpvpgdcc9', 'cmc_rank': 404, 'num_market_pairs': 2172, 'circulating_supply': 1377, 'total_supply': 3017, 'max_supply': 8242, 'infinite_supply': None, 'last_updated': '2024-02-16T10:25:50.961Z', 'date_added': '2024-02-16T10:25:50.961Z', 'tags': ['bzyak0yir1q', 'aeh7qwysn1h', '9y323cx7cwr', 'uhtevmvxbzs', '2av38guemlv', 'toi5vuxbhgf', 'x06amdrxjuj', 'q2ehzo0kays', '7dworktbe8y', 'i2kbyjg2uk'], 'platform': None, 'self_reported_circulating_supply': None, 'self_reported_market_cap': None, 'quote': {'USD': {'price': 0.6504948225362228, 'volume_24h': 6592, 'volume_change_24h': 0.587138365968805, 'percent_change_1h': 0.7635165443554164, 'percent_change_24h': 0.43970431651403996, 'percent_change_7d': 0.4830594995514146, 'market_cap': 0.43921071071536244, 'market_cap_dominance': 8785, 'fully_diluted_market_cap': 0.8061973298690781, 'last_updated': '2024-02-16T10:25:50.961Z'}}}, {'id': 2652, 'name': 'mlylegir1pq', 'symbol': '2xltk7bjwzy', 'slug': 'iwb4gsgofla', 'cmc_rank': 2250, 'num_market_pairs': 7750, 'circulating_supply': 4978, 'total_supply': 9540, 'max_supply': 5449, 'infinite_supply': None, 'last_updated': '2024-02-16T10:25:50.961Z', 'date_added': '2024-02-16T10:25:50.961Z', 'tags': ['uuhjrc0fmsd', '4f7z7851wy8', 'ci6drc67mll', 'hpk6dw56h7r', 'q9a4vaz7gp', 'k0tqb46hls', 'i5j9fkvx2b', 'dlyuac5yodr', 'huuuemn8wyl', 'cv13vnmncu7'], 'platform': None, 'self_reported_circulating_supply': None, 'self_reported_market_cap': None, 'quote': {'USD': {'price': 0.31790804739273826, 'volume_24h': 3209, 'volume_change_24h': 0.2026800143779166, 'percent_change_1h': 0.8521210830111277, 'percent_change_24h': 0.21318219571027774, 'percent_change_7d': 0.7955279532185302, 'market_cap': 0.5085611934879184, 'market_cap_dominance': 6724, 'fully_diluted_market_cap': 0.42431095361388715, 'last_updated': '2024-02-16T10:25:50.961Z'}}}, {'id': 1437, 'name': 'cr4jc30eyu7', 'symbol': 'ys3ic0bnefr', 'slug': 'c8m2gaixuv', 'cmc_rank': 9699, 'num_market_pairs': 5274, 'circulating_supply': 970, 'total_supply': 900, 'max_supply': 8336, 'infinite_supply': None, 'last_updated': '2024-02-16T10:25:50.961Z', 'date_added': '2024-02-16T10:25:50.961Z', 'tags': ['6hhao3z7zcv', 'hst6lg32hge', 'at9u17vza9s', 'nhia0p5x44a', 'lcodakwr18r', 'r8cvlsj7qc', '7jth03wgioj', 'ip0rgn97499', 'spiiexvy61', 'kuekuzozc2'], 'platform': None, 'self_reported_circulating_supply': None, 'self_reported_market_cap': None, 'quote': {'USD': {'price': 0.28743255955078895, 'volume_24h': 1851, 'volume_change_24h': 0.46736861082003545, 'percent_change_1h': 0.16401105431307417, 'percent_change_24h': 0.5549857394262023, 'percent_change_7d': 0.012089925336424612, 'market_cap': 0.8013778031682286, 'market_cap_dominance': 5, 'fully_diluted_market_cap': 0.3435525422858823, 'last_updated': '2024-02-16T10:25:50.961Z'}}}, {'id': 2765, 'name': 'netmdjtg7tn', 'symbol': 'xi7xz8dw7ci', 'slug': '8lwa9y8bybq', 'cmc_rank': 5397, 'num_market_pairs': 7753, 'circulating_supply': 5544, 'total_supply': 2233, 'max_supply': 7737, 'infinite_supply': None, 'last_updated': '2024-02-16T10:25:50.961Z', 'date_added': '2024-02-16T10:25:50.961Z', 'tags': ['2s35opadtw6', '6mjlvsxvdfq', '9g3e0wq9bho', 'a7i4f2rdsbf', 'hz74bgjt0p8', 'ztqq7kx5wki', '7syt8mzus9', 'vbnmqu240hj', 'igge6nh4utb', '85b8aku0p14'], 'platform': None, 'self_reported_circulating_supply': None, 'self_reported_market_cap': None, 'quote': {'USD': {'price': 0.5991406607520542, 'volume_24h': 270, 'volume_change_24h': 0.15378269220680152, 'percent_change_1h': 0.4257862925247369, 'percent_change_24h': 0.10383621640220375, 'percent_change_7d': 0.24663952398743572, 'market_cap': 0.10139480059267636, 'market_cap_dominance': 6256, 'fully_diluted_market_cap': 0.7317698013679439, 'last_updated': '2024-02-16T10:25:50.961Z'}}}, {'id': 4783, 'name': '0f0kz2yta00p', 'symbol': '4b25c22gi9w', 'slug': 'qnsp37gxrtj', 'cmc_rank': 2264, 'num_market_pairs': 1717, 'circulating_supply': 4882, 'total_supply': 4319, 'max_supply': 2852, 'infinite_supply': None, 'last_updated': '2024-02-16T10:25:50.961Z', 'date_added': '2024-02-16T10:25:50.961Z', 'tags': ['zo088lrjgbi', 'e5ca2x1jfif', 'edvq01j6aa', '8nq9wwbpat6', '1fjp0fck8tm', 'cpk7il2ezkl', 'hfecbiw8ip', 'ta9tndru2t', 'fvohm1vn9ak', 'thj5cy3164l'], 'platform': None, 'self_reported_circulating_supply': None, 'self_reported_market_cap': None, 'quote': {'USD': {'price': 0.892392667563991, 'volume_24h': 8657, 'volume_change_24h': 0.37802366590505576, 'percent_change_1h': 0.9507367974263823, 'percent_change_24h': 0.5208494770112815, 'percent_change_7d': 0.9093302036580915, 'market_cap': 0.36241593274602835, 'market_cap_dominance': 8048, 'fully_diluted_market_cap': 0.6950217649132178, 'last_updated': '2024-02-16T10:25:50.961Z'}}}, {'id': 4193, 'name': 'h7lkm2jset', 'symbol': 'xzr56649mv8', 'slug': 'm894dbne1a', 'cmc_rank': 2544, 'num_market_pairs': 8886, 'circulating_supply': 2172, 'total_supply': 7768, 'max_supply': 9350, 'infinite_supply': None, 'last_updated': '2024-02-16T10:25:50.961Z', 'date_added': '2024-02-16T10:25:50.961Z', 'tags': ['hh2tepgsidj', 'jjkhg3dfys', 'brylufdnx9i', 'a91fy7dxjk', 'cfnvex2ylvu', 'yd04xxaqkpe', 'rnavyop88xs', 'z670ppp7jcq', 'z1z40rid48n', '7514jr3xkrg'], 'platform': None, 'self_reported_circulating_supply': None, 'self_reported_market_cap': None, 'quote': {'USD': {'price': 0.6936822506099021, 'volume_24h': 8424, 'volume_change_24h': 0.3863749526631002, 'percent_change_1h': 0.3778548044964203, 'percent_change_24h': 0.24858465694945342, 'percent_change_7d': 0.263394249817398, 'market_cap': 0.3219319799189606, 'market_cap_dominance': 844, 'fully_diluted_market_cap': 0.6855629573046007, 'last_updated': '2024-02-16T10:25:50.961Z'}}}, {'id': 6963, 'name': 'sl10lfygmd', 'symbol': 'u3tzltrrlg', 'slug': '5d0tzs1fo9t', 'cmc_rank': 2802, 'num_market_pairs': 4436, 'circulating_supply': 3062, 'total_supply': 3859, 'max_supply': 4088, 'infinite_supply': None, 'last_updated': '2024-02-16T10:25:50.961Z', 'date_added': '2024-02-16T10:25:50.961Z', 'tags': ['cb7cimipig6', '7bqn4i4sv1q', 'g3bs8ebnx3o', '078tuglececj', '52owbachc02', 'jme5ahkn6f', 'q55643lpkxc', 'dz05bh716gb', 'i2r0ovjwhdp', 'gaw0l2t5vac'], 'platform': None, 'self_reported_circulating_supply': None, 'self_reported_market_cap': None, 'quote': {'USD': {'price': 0.4164303066163557, 'volume_24h': 1350, 'volume_change_24h': 0.9143095770949259, 'percent_change_1h': 0.8270117170924141, 'percent_change_24h': 0.3031275813680414, 'percent_change_7d': 0.4775296319601243, 'market_cap': 0.3576380518071871, 'market_cap_dominance': 7158, 'fully_diluted_market_cap': 0.47985262707674226, 'last_updated': '2024-02-16T10:25:50.961Z'}}}, {'id': 5685, 'name': '8za7dnlso3s', 'symbol': '1ns2b6w0cjp', 'slug': 'u5l5m06gock', 'cmc_rank': 1178, 'num_market_pairs': 7445, 'circulating_supply': 8502, 'total_supply': 9768, 'max_supply': 9106, 'infinite_supply': None, 'last_updated': '2024-02-16T10:25:50.961Z', 'date_added': '2024-02-16T10:25:50.961Z', 'tags': ['ndzk3kf2zgb', '2vypft27brl', 'bb7klw10unc', 'hcqi8sqtdc', 'zsqyuu9yj9d', 'xv0ae5yf95a', '0gi24pz8chw', '2bg1cp4qjvs', 's307kyajtu', 'd8m6zp5e9qp'], 'platform': None, 'self_reported_circulating_supply': None, 'self_reported_market_cap': None, 'quote': {'USD': {'price': 0.2699564530241776, 'volume_24h': 4494, 'volume_change_24h': 0.4485049567928239, 'percent_change_1h': 0.4292933252865825, 'percent_change_24h': 0.2248573483218308, 'percent_change_7d': 0.9726162760255332, 'market_cap': 0.6909593872550734, 'market_cap_dominance': 5647, 'fully_diluted_market_cap': 0.48448137772001565, 'last_updated': '2024-02-16T10:25:50.961Z'}}}, {'id': 8908, 'name': '625jph0hun3', 'symbol': 'ghi230bez8i', 'slug': '0l6nu4x5m9q', 'cmc_rank': 8529, 'num_market_pairs': 8423, 'circulating_supply': 4273, 'total_supply': 5530, 'max_supply': 6135, 'infinite_supply': None, 'last_updated': '2024-02-16T10:25:50.962Z', 'date_added': '2024-02-16T10:25:50.962Z', 'tags': ['7w4syh68jsg', 'wyfjpbcbvs', 'ssd1i5h4lam', '27cotnx8y1n', '6pgcxbof5se', 'jsmleidtuu', '6hbrkjwfgum', 'zr0wcq5un9o', 'wtapzc00jv', 'g788lmcoxd'], 'platform': None, 'self_reported_circulating_supply': None, 'self_reported_market_cap': None, 'quote': {'USD': {'price': 0.021793797596520337, 'volume_24h': 624, 'volume_change_24h': 0.8061214407174009, 'percent_change_1h': 0.5582616698233593, 'percent_change_24h': 0.822046705882274, 'percent_change_7d': 0.13412886802314872, 'market_cap': 0.5539522757322517, 'market_cap_dominance': 4229, 'fully_diluted_market_cap': 0.03579329357289707, 'last_updated': '2024-02-16T10:25:50.962Z'}}}, {'id': 5566, 'name': '5zq1tqu73zd', 'symbol': 'sfc7qawz7ok', 'slug': 'o5zz5ti3tp', 'cmc_rank': 5492, 'num_market_pairs': 5790, 'circulating_supply': 725, 'total_supply': 6382, 'max_supply': 3789, 'infinite_supply': None, 'last_updated': '2024-02-16T10:25:50.962Z', 'date_added': '2024-02-16T10:25:50.962Z', 'tags': ['4hox4eirn4b', 'ck1v7g6rutr', 'axhima29hq7', '28hd8ih5393', '9t3qqxr3hfe', '7kds1rvjxg5', 'vnjj7r541gp', 'f3uyq4cayu', 'upx4f0spfcl', 'uop18xwmot8'], 'platform': None, 'self_reported_circulating_supply': None, 'self_reported_market_cap': None, 'quote': {'USD': {'price': 0.19724705174466806, 'volume_24h': 6523, 'volume_change_24h': 0.09195906065324921, 'percent_change_1h': 0.35102402077543315, 'percent_change_24h': 0.07302765404122136, 'percent_change_7d': 0.6834837075251206, 'market_cap': 0.007832258139700343, 'market_cap_dominance': 5491, 'fully_diluted_market_cap': 0.9410811059628277, 'last_updated': '2024-02-16T10:25:50.962Z'}}}]}\n"
          ]
        }
      ]
    },
    {
      "cell_type": "code",
      "source": [
        "print(page.text)"
      ],
      "metadata": {
        "colab": {
          "base_uri": "https://localhost:8080/"
        },
        "id": "WpBMxzrzQBU1",
        "outputId": "aecf8d6c-5e1f-45ce-a1e9-a52d727902e6"
      },
      "execution_count": null,
      "outputs": [
        {
          "output_type": "stream",
          "name": "stdout",
          "text": [
            "{\"image\":\"https:\\/\\/randomfox.ca\\/images\\/114.jpg\",\"link\":\"https:\\/\\/randomfox.ca\\/?i=114\"}\n"
          ]
        }
      ]
    },
    {
      "cell_type": "code",
      "source": [
        "import pandas as pd\n",
        "norm=pd.json_normalize(data['data'])\n",
        "print(norm)"
      ],
      "metadata": {
        "colab": {
          "base_uri": "https://localhost:8080/"
        },
        "id": "OhXY778HXO4P",
        "outputId": "9f0b4188-7dd8-450b-df1e-f509c4d551d3"
      },
      "execution_count": null,
      "outputs": [
        {
          "output_type": "stream",
          "name": "stdout",
          "text": [
            "     id          name       symbol         slug  cmc_rank  num_market_pairs  \\\n",
            "0  3763   d4ta8o2ko45  573z4hpbq4k  yyrpvpgdcc9       404              2172   \n",
            "1  2652   mlylegir1pq  2xltk7bjwzy  iwb4gsgofla      2250              7750   \n",
            "2  1437   cr4jc30eyu7  ys3ic0bnefr   c8m2gaixuv      9699              5274   \n",
            "3  2765   netmdjtg7tn  xi7xz8dw7ci  8lwa9y8bybq      5397              7753   \n",
            "4  4783  0f0kz2yta00p  4b25c22gi9w  qnsp37gxrtj      2264              1717   \n",
            "5  4193    h7lkm2jset  xzr56649mv8   m894dbne1a      2544              8886   \n",
            "6  6963    sl10lfygmd   u3tzltrrlg  5d0tzs1fo9t      2802              4436   \n",
            "7  5685   8za7dnlso3s  1ns2b6w0cjp  u5l5m06gock      1178              7445   \n",
            "8  8908   625jph0hun3  ghi230bez8i  0l6nu4x5m9q      8529              8423   \n",
            "9  5566   5zq1tqu73zd  sfc7qawz7ok   o5zz5ti3tp      5492              5790   \n",
            "\n",
            "   circulating_supply  total_supply  max_supply infinite_supply  ...  \\\n",
            "0                1377          3017        8242            None  ...   \n",
            "1                4978          9540        5449            None  ...   \n",
            "2                 970           900        8336            None  ...   \n",
            "3                5544          2233        7737            None  ...   \n",
            "4                4882          4319        2852            None  ...   \n",
            "5                2172          7768        9350            None  ...   \n",
            "6                3062          3859        4088            None  ...   \n",
            "7                8502          9768        9106            None  ...   \n",
            "8                4273          5530        6135            None  ...   \n",
            "9                 725          6382        3789            None  ...   \n",
            "\n",
            "  quote.USD.price quote.USD.volume_24h quote.USD.volume_change_24h  \\\n",
            "0        0.650495                 6592                    0.587138   \n",
            "1        0.317908                 3209                    0.202680   \n",
            "2        0.287433                 1851                    0.467369   \n",
            "3        0.599141                  270                    0.153783   \n",
            "4        0.892393                 8657                    0.378024   \n",
            "5        0.693682                 8424                    0.386375   \n",
            "6        0.416430                 1350                    0.914310   \n",
            "7        0.269956                 4494                    0.448505   \n",
            "8        0.021794                  624                    0.806121   \n",
            "9        0.197247                 6523                    0.091959   \n",
            "\n",
            "  quote.USD.percent_change_1h quote.USD.percent_change_24h  \\\n",
            "0                    0.763517                     0.439704   \n",
            "1                    0.852121                     0.213182   \n",
            "2                    0.164011                     0.554986   \n",
            "3                    0.425786                     0.103836   \n",
            "4                    0.950737                     0.520849   \n",
            "5                    0.377855                     0.248585   \n",
            "6                    0.827012                     0.303128   \n",
            "7                    0.429293                     0.224857   \n",
            "8                    0.558262                     0.822047   \n",
            "9                    0.351024                     0.073028   \n",
            "\n",
            "  quote.USD.percent_change_7d  quote.USD.market_cap  \\\n",
            "0                    0.483059              0.439211   \n",
            "1                    0.795528              0.508561   \n",
            "2                    0.012090              0.801378   \n",
            "3                    0.246640              0.101395   \n",
            "4                    0.909330              0.362416   \n",
            "5                    0.263394              0.321932   \n",
            "6                    0.477530              0.357638   \n",
            "7                    0.972616              0.690959   \n",
            "8                    0.134129              0.553952   \n",
            "9                    0.683484              0.007832   \n",
            "\n",
            "   quote.USD.market_cap_dominance  quote.USD.fully_diluted_market_cap  \\\n",
            "0                            8785                            0.806197   \n",
            "1                            6724                            0.424311   \n",
            "2                               5                            0.343553   \n",
            "3                            6256                            0.731770   \n",
            "4                            8048                            0.695022   \n",
            "5                             844                            0.685563   \n",
            "6                            7158                            0.479853   \n",
            "7                            5647                            0.484481   \n",
            "8                            4229                            0.035793   \n",
            "9                            5491                            0.941081   \n",
            "\n",
            "     quote.USD.last_updated  \n",
            "0  2024-02-16T10:25:50.961Z  \n",
            "1  2024-02-16T10:25:50.961Z  \n",
            "2  2024-02-16T10:25:50.961Z  \n",
            "3  2024-02-16T10:25:50.961Z  \n",
            "4  2024-02-16T10:25:50.961Z  \n",
            "5  2024-02-16T10:25:50.961Z  \n",
            "6  2024-02-16T10:25:50.961Z  \n",
            "7  2024-02-16T10:25:50.961Z  \n",
            "8  2024-02-16T10:25:50.962Z  \n",
            "9  2024-02-16T10:25:50.962Z  \n",
            "\n",
            "[10 rows x 26 columns]\n"
          ]
        }
      ]
    }
  ]
}